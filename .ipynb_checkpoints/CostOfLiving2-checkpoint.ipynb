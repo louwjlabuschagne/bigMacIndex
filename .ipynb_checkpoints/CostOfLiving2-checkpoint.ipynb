{
 "cells": [
  {
   "cell_type": "markdown",
   "metadata": {},
   "source": [
    "# Cost of Living (CoL) Web Scraper"
   ]
  },
  {
   "cell_type": "markdown",
   "metadata": {},
   "source": [
    "## Required Packages"
   ]
  },
  {
   "cell_type": "code",
   "execution_count": 1,
   "metadata": {},
   "outputs": [
    {
     "name": "stderr",
     "output_type": "stream",
     "text": [
      "Loading required package: xml2\n",
      "Loading tidyverse: ggplot2\n",
      "Loading tidyverse: tibble\n",
      "Loading tidyverse: tidyr\n",
      "Loading tidyverse: readr\n",
      "Loading tidyverse: purrr\n",
      "Loading tidyverse: dplyr\n",
      "Conflicts with tidy packages ---------------------------------------------------\n",
      "filter(): dplyr, stats\n",
      "lag():    dplyr, stats\n"
     ]
    }
   ],
   "source": [
    "library(rvest)\n",
    "library(tidyverse)\n",
    "library(stringr)"
   ]
  },
  {
   "cell_type": "markdown",
   "metadata": {},
   "source": [
    "## Reading the webpage\n",
    "Reading the webpage and aiming for the data_wide_table selector, this is the 3rd returned table from html_nodes below\n",
    "![Numbeo Page](./images/numbeo_swazi.png)"
   ]
  },
  {
   "cell_type": "code",
   "execution_count": 5,
   "metadata": {},
   "outputs": [
    {
     "data": {
      "text/html": [
       "<table>\n",
       "<thead><tr><th scope=col>Restaurants</th><th scope=col>[ Edit ]</th><th scope=col>Range</th></tr></thead>\n",
       "<tbody>\n",
       "\t<tr><td>Meal, Inexpensive Restaurant                         </td><td>70.00 R                                              </td><td>50.00-70.00                                          </td></tr>\n",
       "\t<tr><td>Meal for 2 People, Mid-range Restaurant, Three-course</td><td>300.00 R                                             </td><td>300.00-400.00                                        </td></tr>\n",
       "\t<tr><td>McMeal at McDonalds (or Equivalent Combo Meal)       </td><td>50.00 R                                              </td><td>50.00-59.00                                          </td></tr>\n",
       "\t<tr><td>Domestic Beer (0.5 liter draught)                    </td><td>13.00 R                                              </td><td>11.00-15.00                                          </td></tr>\n",
       "\t<tr><td>Imported Beer (0.33 liter bottle)                    </td><td>17.50 R                                              </td><td>12.00-20.00                                          </td></tr>\n",
       "\t<tr><td>Cappuccino (regular)                                 </td><td>17.50 R                                              </td><td>15.00-20.00                                          </td></tr>\n",
       "</tbody>\n",
       "</table>\n"
      ],
      "text/latex": [
       "\\begin{tabular}{r|lll}\n",
       " Restaurants & {[} Edit {]} & Range\\\\\n",
       "\\hline\n",
       "\t Meal, Inexpensive Restaurant                          & 70.00 R                                               & 50.00-70.00                                          \\\\\n",
       "\t Meal for 2 People, Mid-range Restaurant, Three-course & 300.00 R                                              & 300.00-400.00                                        \\\\\n",
       "\t McMeal at McDonalds (or Equivalent Combo Meal)        & 50.00 R                                               & 50.00-59.00                                          \\\\\n",
       "\t Domestic Beer (0.5 liter draught)                     & 13.00 R                                               & 11.00-15.00                                          \\\\\n",
       "\t Imported Beer (0.33 liter bottle)                     & 17.50 R                                               & 12.00-20.00                                          \\\\\n",
       "\t Cappuccino (regular)                                  & 17.50 R                                               & 15.00-20.00                                          \\\\\n",
       "\\end{tabular}\n"
      ],
      "text/markdown": [
       "\n",
       "Restaurants | [ Edit ] | Range | \n",
       "|---|---|---|---|---|---|\n",
       "| Meal, Inexpensive Restaurant                          | 70.00 R                                               | 50.00-70.00                                           | \n",
       "| Meal for 2 People, Mid-range Restaurant, Three-course | 300.00 R                                              | 300.00-400.00                                         | \n",
       "| McMeal at McDonalds (or Equivalent Combo Meal)        | 50.00 R                                               | 50.00-59.00                                           | \n",
       "| Domestic Beer (0.5 liter draught)                     | 13.00 R                                               | 11.00-15.00                                           | \n",
       "| Imported Beer (0.33 liter bottle)                     | 17.50 R                                               | 12.00-20.00                                           | \n",
       "| Cappuccino (regular)                                  | 17.50 R                                               | 15.00-20.00                                           | \n",
       "\n",
       "\n"
      ],
      "text/plain": [
       "  Restaurants                                           [ Edit ] Range        \n",
       "1 Meal, Inexpensive Restaurant                          70.00 R  50.00-70.00  \n",
       "2 Meal for 2 People, Mid-range Restaurant, Three-course 300.00 R 300.00-400.00\n",
       "3 McMeal at McDonalds (or Equivalent Combo Meal)        50.00 R  50.00-59.00  \n",
       "4 Domestic Beer (0.5 liter draught)                     13.00 R  11.00-15.00  \n",
       "5 Imported Beer (0.33 liter bottle)                     17.50 R  12.00-20.00  \n",
       "6 Cappuccino (regular)                                  17.50 R  15.00-20.00  "
      ]
     },
     "metadata": {},
     "output_type": "display_data"
    }
   ],
   "source": [
    "CoL_page = read_html(\"https://www.numbeo.com/cost-of-living/country_result.jsp?country=Swaziland\") #get html from page\n",
    "CoL_elements = html_nodes(x = CoL_page, css = \"table\") #get all the tables on the pages\n",
    "CoL_text = html_text(CoL_elements[3], trim = TRUE) #3rd table returned\\n\",\n",
    "CoL_table = as_tibble(html_table(CoL_elements[3])[[1]])#removing table from list\n",
    "head(CoL_table)"
   ]
  },
  {
   "cell_type": "code",
   "execution_count": 6,
   "metadata": {},
   "outputs": [
    {
     "data": {
      "text/html": [
       "<table>\n",
       "<thead><tr><th scope=col>item</th><th scope=col>avgPrice</th><th scope=col>range</th></tr></thead>\n",
       "<tbody>\n",
       "\t<tr><td>Meal, Inexpensive Restaurant                         </td><td>70.00 R                                              </td><td>50.00-70.00                                          </td></tr>\n",
       "\t<tr><td>Meal for 2 People, Mid-range Restaurant, Three-course</td><td>300.00 R                                             </td><td>300.00-400.00                                        </td></tr>\n",
       "\t<tr><td>McMeal at McDonalds (or Equivalent Combo Meal)       </td><td>50.00 R                                              </td><td>50.00-59.00                                          </td></tr>\n",
       "\t<tr><td>Domestic Beer (0.5 liter draught)                    </td><td>13.00 R                                              </td><td>11.00-15.00                                          </td></tr>\n",
       "\t<tr><td>Imported Beer (0.33 liter bottle)                    </td><td>17.50 R                                              </td><td>12.00-20.00                                          </td></tr>\n",
       "</tbody>\n",
       "</table>\n"
      ],
      "text/latex": [
       "\\begin{tabular}{r|lll}\n",
       " item & avgPrice & range\\\\\n",
       "\\hline\n",
       "\t Meal, Inexpensive Restaurant                          & 70.00 R                                               & 50.00-70.00                                          \\\\\n",
       "\t Meal for 2 People, Mid-range Restaurant, Three-course & 300.00 R                                              & 300.00-400.00                                        \\\\\n",
       "\t McMeal at McDonalds (or Equivalent Combo Meal)        & 50.00 R                                               & 50.00-59.00                                          \\\\\n",
       "\t Domestic Beer (0.5 liter draught)                     & 13.00 R                                               & 11.00-15.00                                          \\\\\n",
       "\t Imported Beer (0.33 liter bottle)                     & 17.50 R                                               & 12.00-20.00                                          \\\\\n",
       "\\end{tabular}\n"
      ],
      "text/markdown": [
       "\n",
       "item | avgPrice | range | \n",
       "|---|---|---|---|---|\n",
       "| Meal, Inexpensive Restaurant                          | 70.00 R                                               | 50.00-70.00                                           | \n",
       "| Meal for 2 People, Mid-range Restaurant, Three-course | 300.00 R                                              | 300.00-400.00                                         | \n",
       "| McMeal at McDonalds (or Equivalent Combo Meal)        | 50.00 R                                               | 50.00-59.00                                           | \n",
       "| Domestic Beer (0.5 liter draught)                     | 13.00 R                                               | 11.00-15.00                                           | \n",
       "| Imported Beer (0.33 liter bottle)                     | 17.50 R                                               | 12.00-20.00                                           | \n",
       "\n",
       "\n"
      ],
      "text/plain": [
       "  item                                                  avgPrice range        \n",
       "1 Meal, Inexpensive Restaurant                          70.00 R  50.00-70.00  \n",
       "2 Meal for 2 People, Mid-range Restaurant, Three-course 300.00 R 300.00-400.00\n",
       "3 McMeal at McDonalds (or Equivalent Combo Meal)        50.00 R  50.00-59.00  \n",
       "4 Domestic Beer (0.5 liter draught)                     13.00 R  11.00-15.00  \n",
       "5 Imported Beer (0.33 liter bottle)                     17.50 R  12.00-20.00  "
      ]
     },
     "metadata": {},
     "output_type": "display_data"
    }
   ],
   "source": [
    "colnames(CoL_table) = c(\"item\", 'avgPrice', 'range') #rename the columns\n",
    "CoL_table = CoL_table %>% filter(avgPrice != \"[ Edit ]\") #remove categories that corrupt table\n",
    "CoL_table %>% head(5)"
   ]
  },
  {
   "cell_type": "markdown",
   "metadata": {},
   "source": [
    "## \"Borrowing\" Countries\n",
    "Using the Incpect Element function of google chrome, \"borrowing\" the countries from the numbeo home page\n",
    "![Borrowing Coutnries](./images/strealCountries.png)"
   ]
  },
  {
   "cell_type": "code",
   "execution_count": 7,
   "metadata": {
    "collapsed": true
   },
   "outputs": [],
   "source": [
    "countries = c(\"Afghanistan\",\"Aland Islands\",\"Albania\",\"Algeria\"\n",
    "              ,\"Andorra\",\"Angola\",\"Antigua And Barbuda\",\"Argentina\"\n",
    "              ,\"Armenia\",\"Aruba\",\"Australia\",\"Austria\",\"Azerbaijan\"\n",
    "              ,\"Bahamas\",\"Bahrain\",\"Bangladesh\",\"Barbados\",\"Belarus\"\n",
    "              ,\"Belgium\",\"Belize\",\"Bermuda\",\"Bhutan\",\"Bolivia\"\n",
    "              ,\"Bosnia And Herzegovina\",\"Botswana\",\"Brazil\"\n",
    "              ,\"British Virgin Islands\",\"Brunei\",\"Bulgaria\",\"Burkina Faso\"\n",
    "              ,\"Burundi\",\"Cambodia\",\"Cameroon\",\"Canada\",\"Cape Verde\"\n",
    "              ,\"Cayman Islands\",\"Chad\",\"Chile\",\"China\",\"Colombia\",\"Congo\"\n",
    "              ,\"Costa Rica\",\"Croatia\",\"Cuba\",\"Curacao\",\"Cyprus\",\"Czech Republic\"\n",
    "              ,\"Denmark\",\"Djibouti\",\"Dominica\",\"Dominican Republic\",\"Ecuador\"\n",
    "              ,\"Egypt\",\"El Salvador\",\"Estonia\",\"Ethiopia\",\"Faroe Islands\"\n",
    "              ,\"Fiji\",\"Finland\",\"France\",\"French Polynesia\",\"Gabon\",\"Gambia\"\n",
    "              ,\"Georgia\",\"Germany\",\"Ghana\",\"Gibraltar\",\"Greece\",\"Greenland\"\n",
    "              ,\"Grenada\",\"Guam\",\"Guatemala\",\"Guernsey\",\"Guyana\",\"Honduras\"\n",
    "              ,\"Hong Kong\",\"Hungary\",\"Iceland\",\"India\",\"Indonesia\",\"Iran\"\n",
    "              ,\"Iraq\",\"Ireland\",\"Isle Of Man\",\"Israel\",\"Italy\",\"Ivory Coast\"\n",
    "              ,\"Jamaica\",\"Japan\",\"Jersey\",\"Jordan\",\"Kazakhstan\",\"Kenya\"\n",
    "              ,\"Kosovo (Disputed Territory)\",\"Kuwait\",\"Kyrgyzstan\",\"Laos\"\n",
    "              ,\"Latvia\",\"Lebanon\",\"Lesotho\",\"Liberia\",\"Libya\",\"Lithuania\"\n",
    "              ,\"Luxembourg\",\"Macao\",\"Macedonia\",\"Madagascar\",\"Malawi\"\n",
    "              ,\"Malaysia\",\"Maldives\",\"Mali\",\"Malta\",\"Mauritania\",\"Mauritius\"\n",
    "              ,\"Mexico\",\"Micronesia\",\"Moldova\",\"Monaco\",\"Mongolia\",\"Montenegro\"\n",
    "              ,\"Morocco\",\"Mozambique\",\"Myanmar\",\"Namibia\",\"Nepal\",\"Netherlands\"\n",
    "              ,\"New Caledonia\",\"New Zealand\",\"Nicaragua\",\"Nigeria\",\"Northern Mariana Islands\"\n",
    "              ,\"Norway\",\"Oman\",\"Pakistan\",\"Palestinian Territory\",\"Panama\",\"Papua New Guinea\"\n",
    "              ,\"Paraguay\",\"Peru\",\"Philippines\",\"Poland\",\"Portugal\",\"Puerto Rico\",\"Qatar\"\n",
    "              ,\"Reunion\",\"Romania\",\"Russia\",\"Rwanda\",\"Saint Kitts And Nevis\",\"Saint Lucia\"\n",
    "              ,\"Saint Vincent And The Grenadines\",\"Samoa\",\"Saudi Arabia\",\"Senegal\",\"Serbia\"\n",
    "              ,\"Seychelles\",\"Singapore\",\"Sint Maarten\",\"Slovakia\",\"Slovenia\",\"Somalia\",\"South Africa\"\n",
    "              ,\"South Korea\",\"South Sudan\",\"Spain\",\"Sri Lanka\",\"Sudan\",\"Suriname\",\"Swaziland\"\n",
    "              ,\"Sweden\",\"Switzerland\",\"Syria\",\"Taiwan\",\"Tajikistan\",\"Tanzania\",\"Thailand\",\"Timor-Leste\"\n",
    "              ,\"Togo\",\"Tonga\",\"Trinidad And Tobago\",\"Tunisia\",\"Turkey\",\"Turkmenistan\",\"Turks And Caicos Islands\"\n",
    "              ,\"Uganda\",\"Ukraine\",\"United Arab Emirates\",\"United Kingdom\",\"United States\"\n",
    "              ,\"Uruguay\",\"Us Virgin Islands\",\"Uzbekistan\",\"Vanuatu\",\"Venezuela\",\"Vietnam\"\n",
    "              ,\"Yemen\",\"Zambia\",\"Zimbabwe\")"
   ]
  },
  {
   "cell_type": "markdown",
   "metadata": {},
   "source": [
    "Noticing that the URL for countries with spaces are addressed with +'s\n",
    "![Spaces URL address space](./images/spaceURL.png)"
   ]
  },
  {
   "cell_type": "markdown",
   "metadata": {},
   "source": [
    "## The Crawl Function\n",
    "This is the function that takes a country and create the URL needed to get the table for that country"
   ]
  },
  {
   "cell_type": "code",
   "execution_count": 11,
   "metadata": {
    "collapsed": true
   },
   "outputs": [],
   "source": [
    "getCoL = function(country){\n",
    "\n",
    "    now = Sys.time()\n",
    "\n",
    "    writeLines(str_c(now, \"Scraping \", country, sep=\"\\t\"))\n",
    "    URL = str_c(\"https://www.numbeo.com/cost-of-living/country_result.jsp?country=\", country, sep=\"\")\n",
    "    #get html from page\n",
    "    CoL_page = read_html(URL) \n",
    "    #get all the tables on the pages\n",
    "    CoL_elements = html_nodes(x = CoL_page, css = \"table\") \n",
    "    #3rd table returned\n",
    "    CoL_text = html_text(CoL_elements[3], trim = TRUE) \n",
    "    #removing table from list\n",
    "    CoL_table = as_tibble(html_table(CoL_elements[3])[[1]])\n",
    "    #rename the columns\n",
    "    colnames(CoL_table) = c(\"item\", 'avgPrice', 'range') \n",
    "    #remove categories that corrupt table\n",
    "    CoL_table = CoL_table %>% filter(avgPrice != \"[ Edit ]\") \n",
    "    #split the numbers out of the avgPrice column to identify currency used,\n",
    "    #     currency_pass_1 = CoL_table %>% select(avgPrice) %>% unlist() %>% str_split(\"[0-9]\") ,\n",
    "    #     currency = str_split(currency_pass_1[[1]], \" \") %>% tail(1) %>% unlist()\n",
    "    writeLines(paste0(\"Time:\\t\\t \", Sys.time() -now))\n",
    "    return(CoL_table)\n",
    "}"
   ]
  },
  {
   "cell_type": "code",
   "execution_count": null,
   "metadata": {},
   "outputs": [],
   "source": [
    "now = Sys.time()\n",
    "countries_plus = lapply(countries, function(x) gsub(\" \", \"+\", x, fixed=TRUE))\n",
    "country_tibbles = lapply(countries_plus, function(x) getCoL(x))\n",
    "Sys.time()-now"
   ]
  },
  {
   "cell_type": "code",
   "execution_count": null,
   "metadata": {
    "collapsed": true
   },
   "outputs": [],
   "source": []
  }
 ],
 "metadata": {
  "kernelspec": {
   "display_name": "R",
   "language": "R",
   "name": "ir"
  },
  "language_info": {
   "codemirror_mode": "r",
   "file_extension": ".r",
   "mimetype": "text/x-r-source",
   "name": "R",
   "pygments_lexer": "r",
   "version": "3.3.3"
  }
 },
 "nbformat": 4,
 "nbformat_minor": 2
}
