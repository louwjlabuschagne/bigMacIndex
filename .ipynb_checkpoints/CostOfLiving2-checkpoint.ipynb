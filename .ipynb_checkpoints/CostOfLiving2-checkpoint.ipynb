{
 "cells": [
  {
   "cell_type": "markdown",
   "metadata": {},
   "source": [
    "# Cost of Living (CoL) Web Scraper"
   ]
  },
  {
   "cell_type": "markdown",
   "metadata": {},
   "source": [
    "## Required Packages"
   ]
  },
  {
   "cell_type": "code",
   "execution_count": 1,
   "metadata": {},
   "outputs": [
    {
     "name": "stderr",
     "output_type": "stream",
     "text": [
      "Loading required package: xml2\n",
      "Loading tidyverse: ggplot2\n",
      "Loading tidyverse: tibble\n",
      "Loading tidyverse: tidyr\n",
      "Loading tidyverse: readr\n",
      "Loading tidyverse: purrr\n",
      "Loading tidyverse: dplyr\n",
      "Conflicts with tidy packages ---------------------------------------------------\n",
      "filter(): dplyr, stats\n",
      "lag():    dplyr, stats\n"
     ]
    }
   ],
   "source": [
    "library(rvest)\n",
    "library(tidyverse)\n",
    "library(stringr)"
   ]
  },
  {
   "cell_type": "markdown",
   "metadata": {},
   "source": [
    "## Reading the webpage\n",
    "Reading the webpage and aiming for the data_wide_table selector, this is the 3rd returned table from html_nodes below\n",
    "![Numbeo Page](./images/numbeo_swazi.png)"
   ]
  },
  {
   "cell_type": "code",
   "execution_count": 2,
   "metadata": {},
   "outputs": [
    {
     "data": {
      "text/html": [
       "<table>\n",
       "<thead><tr><th scope=col>Restaurants</th><th scope=col>[ Edit ]</th><th scope=col>Range</th></tr></thead>\n",
       "<tbody>\n",
       "\t<tr><td>Meal, Inexpensive Restaurant                         </td><td>70.00 R                                              </td><td>50.00-70.00                                          </td></tr>\n",
       "\t<tr><td>Meal for 2 People, Mid-range Restaurant, Three-course</td><td>300.00 R                                             </td><td>300.00-400.00                                        </td></tr>\n",
       "\t<tr><td>McMeal at McDonalds (or Equivalent Combo Meal)       </td><td>50.00 R                                              </td><td>50.00-59.00                                          </td></tr>\n",
       "\t<tr><td>Domestic Beer (0.5 liter draught)                    </td><td>13.00 R                                              </td><td>11.00-15.00                                          </td></tr>\n",
       "\t<tr><td>Imported Beer (0.33 liter bottle)                    </td><td>17.50 R                                              </td><td>12.00-20.00                                          </td></tr>\n",
       "\t<tr><td>Cappuccino (regular)                                 </td><td>17.50 R                                              </td><td>15.00-20.00                                          </td></tr>\n",
       "</tbody>\n",
       "</table>\n"
      ],
      "text/latex": [
       "\\begin{tabular}{r|lll}\n",
       " Restaurants & {[} Edit {]} & Range\\\\\n",
       "\\hline\n",
       "\t Meal, Inexpensive Restaurant                          & 70.00 R                                               & 50.00-70.00                                          \\\\\n",
       "\t Meal for 2 People, Mid-range Restaurant, Three-course & 300.00 R                                              & 300.00-400.00                                        \\\\\n",
       "\t McMeal at McDonalds (or Equivalent Combo Meal)        & 50.00 R                                               & 50.00-59.00                                          \\\\\n",
       "\t Domestic Beer (0.5 liter draught)                     & 13.00 R                                               & 11.00-15.00                                          \\\\\n",
       "\t Imported Beer (0.33 liter bottle)                     & 17.50 R                                               & 12.00-20.00                                          \\\\\n",
       "\t Cappuccino (regular)                                  & 17.50 R                                               & 15.00-20.00                                          \\\\\n",
       "\\end{tabular}\n"
      ],
      "text/markdown": [
       "\n",
       "Restaurants | [ Edit ] | Range | \n",
       "|---|---|---|---|---|---|\n",
       "| Meal, Inexpensive Restaurant                          | 70.00 R                                               | 50.00-70.00                                           | \n",
       "| Meal for 2 People, Mid-range Restaurant, Three-course | 300.00 R                                              | 300.00-400.00                                         | \n",
       "| McMeal at McDonalds (or Equivalent Combo Meal)        | 50.00 R                                               | 50.00-59.00                                           | \n",
       "| Domestic Beer (0.5 liter draught)                     | 13.00 R                                               | 11.00-15.00                                           | \n",
       "| Imported Beer (0.33 liter bottle)                     | 17.50 R                                               | 12.00-20.00                                           | \n",
       "| Cappuccino (regular)                                  | 17.50 R                                               | 15.00-20.00                                           | \n",
       "\n",
       "\n"
      ],
      "text/plain": [
       "  Restaurants                                           [ Edit ] Range        \n",
       "1 Meal, Inexpensive Restaurant                          70.00 R  50.00-70.00  \n",
       "2 Meal for 2 People, Mid-range Restaurant, Three-course 300.00 R 300.00-400.00\n",
       "3 McMeal at McDonalds (or Equivalent Combo Meal)        50.00 R  50.00-59.00  \n",
       "4 Domestic Beer (0.5 liter draught)                     13.00 R  11.00-15.00  \n",
       "5 Imported Beer (0.33 liter bottle)                     17.50 R  12.00-20.00  \n",
       "6 Cappuccino (regular)                                  17.50 R  15.00-20.00  "
      ]
     },
     "metadata": {},
     "output_type": "display_data"
    }
   ],
   "source": [
    "CoL_page = read_html(\"https://www.numbeo.com/cost-of-living/country_result.jsp?country=Swaziland\") #get html from page\n",
    "CoL_elements = html_nodes(x = CoL_page, css = \"table\") #get all the tables on the pages\n",
    "CoL_text = html_text(CoL_elements[3], trim = TRUE) #3rd table returned\\n\",\n",
    "CoL_table = as_tibble(html_table(CoL_elements[3])[[1]])#removing table from list\n",
    "head(CoL_table)"
   ]
  },
  {
   "cell_type": "code",
   "execution_count": 3,
   "metadata": {},
   "outputs": [
    {
     "data": {
      "text/html": [
       "<table>\n",
       "<thead><tr><th scope=col>item</th><th scope=col>avgPrice</th><th scope=col>range</th></tr></thead>\n",
       "<tbody>\n",
       "\t<tr><td>Meal, Inexpensive Restaurant                         </td><td>70.00 R                                              </td><td>50.00-70.00                                          </td></tr>\n",
       "\t<tr><td>Meal for 2 People, Mid-range Restaurant, Three-course</td><td>300.00 R                                             </td><td>300.00-400.00                                        </td></tr>\n",
       "\t<tr><td>McMeal at McDonalds (or Equivalent Combo Meal)       </td><td>50.00 R                                              </td><td>50.00-59.00                                          </td></tr>\n",
       "\t<tr><td>Domestic Beer (0.5 liter draught)                    </td><td>13.00 R                                              </td><td>11.00-15.00                                          </td></tr>\n",
       "\t<tr><td>Imported Beer (0.33 liter bottle)                    </td><td>17.50 R                                              </td><td>12.00-20.00                                          </td></tr>\n",
       "</tbody>\n",
       "</table>\n"
      ],
      "text/latex": [
       "\\begin{tabular}{r|lll}\n",
       " item & avgPrice & range\\\\\n",
       "\\hline\n",
       "\t Meal, Inexpensive Restaurant                          & 70.00 R                                               & 50.00-70.00                                          \\\\\n",
       "\t Meal for 2 People, Mid-range Restaurant, Three-course & 300.00 R                                              & 300.00-400.00                                        \\\\\n",
       "\t McMeal at McDonalds (or Equivalent Combo Meal)        & 50.00 R                                               & 50.00-59.00                                          \\\\\n",
       "\t Domestic Beer (0.5 liter draught)                     & 13.00 R                                               & 11.00-15.00                                          \\\\\n",
       "\t Imported Beer (0.33 liter bottle)                     & 17.50 R                                               & 12.00-20.00                                          \\\\\n",
       "\\end{tabular}\n"
      ],
      "text/markdown": [
       "\n",
       "item | avgPrice | range | \n",
       "|---|---|---|---|---|\n",
       "| Meal, Inexpensive Restaurant                          | 70.00 R                                               | 50.00-70.00                                           | \n",
       "| Meal for 2 People, Mid-range Restaurant, Three-course | 300.00 R                                              | 300.00-400.00                                         | \n",
       "| McMeal at McDonalds (or Equivalent Combo Meal)        | 50.00 R                                               | 50.00-59.00                                           | \n",
       "| Domestic Beer (0.5 liter draught)                     | 13.00 R                                               | 11.00-15.00                                           | \n",
       "| Imported Beer (0.33 liter bottle)                     | 17.50 R                                               | 12.00-20.00                                           | \n",
       "\n",
       "\n"
      ],
      "text/plain": [
       "  item                                                  avgPrice range        \n",
       "1 Meal, Inexpensive Restaurant                          70.00 R  50.00-70.00  \n",
       "2 Meal for 2 People, Mid-range Restaurant, Three-course 300.00 R 300.00-400.00\n",
       "3 McMeal at McDonalds (or Equivalent Combo Meal)        50.00 R  50.00-59.00  \n",
       "4 Domestic Beer (0.5 liter draught)                     13.00 R  11.00-15.00  \n",
       "5 Imported Beer (0.33 liter bottle)                     17.50 R  12.00-20.00  "
      ]
     },
     "metadata": {},
     "output_type": "display_data"
    }
   ],
   "source": [
    "colnames(CoL_table) = c(\"item\", 'avgPrice', 'range') #rename the columns\n",
    "CoL_table = CoL_table %>% filter(avgPrice != \"[ Edit ]\") #remove categories that corrupt table\n",
    "CoL_table %>% head(5)"
   ]
  },
  {
   "cell_type": "markdown",
   "metadata": {},
   "source": [
    "## \"Borrowing\" Countries\n",
    "Using the Incpect Element function of google chrome, \"borrowing\" the countries from the numbeo home page\n",
    "![Borrowing Coutnries](./images/strealCountries.png)"
   ]
  },
  {
   "cell_type": "code",
   "execution_count": 4,
   "metadata": {
    "collapsed": true
   },
   "outputs": [],
   "source": [
    "countries = c(\"Afghanistan\",\"Aland Islands\",\"Albania\",\"Algeria\"\n",
    "              ,\"Andorra\",\"Angola\",\"Antigua And Barbuda\",\"Argentina\"\n",
    "              ,\"Armenia\",\"Aruba\",\"Australia\",\"Austria\",\"Azerbaijan\"\n",
    "              ,\"Bahamas\",\"Bahrain\",\"Bangladesh\",\"Barbados\",\"Belarus\"\n",
    "              ,\"Belgium\",\"Belize\",\"Bermuda\",\"Bhutan\",\"Bolivia\"\n",
    "              ,\"Bosnia And Herzegovina\",\"Botswana\",\"Brazil\"\n",
    "              ,\"British Virgin Islands\",\"Brunei\",\"Bulgaria\",\"Burkina Faso\"\n",
    "              ,\"Burundi\",\"Cambodia\",\"Cameroon\",\"Canada\",\"Cape Verde\"\n",
    "              ,\"Cayman Islands\",\"Chad\",\"Chile\",\"China\",\"Colombia\",\"Congo\"\n",
    "              ,\"Costa Rica\",\"Croatia\",\"Cuba\",\"Curacao\",\"Cyprus\",\"Czech Republic\"\n",
    "              ,\"Denmark\",\"Djibouti\",\"Dominica\",\"Dominican Republic\",\"Ecuador\"\n",
    "              ,\"Egypt\",\"El Salvador\",\"Estonia\",\"Ethiopia\",\"Faroe Islands\"\n",
    "              ,\"Fiji\",\"Finland\",\"France\",\"French Polynesia\",\"Gabon\",\"Gambia\"\n",
    "              ,\"Georgia\",\"Germany\",\"Ghana\",\"Gibraltar\",\"Greece\",\"Greenland\"\n",
    "              ,\"Grenada\",\"Guam\",\"Guatemala\",\"Guernsey\",\"Guyana\",\"Honduras\"\n",
    "              ,\"Hong Kong\",\"Hungary\",\"Iceland\",\"India\",\"Indonesia\",\"Iran\"\n",
    "              ,\"Iraq\",\"Ireland\",\"Isle Of Man\",\"Israel\",\"Italy\",\"Ivory Coast\"\n",
    "              ,\"Jamaica\",\"Japan\",\"Jersey\",\"Jordan\",\"Kazakhstan\",\"Kenya\"\n",
    "              ,\"Kosovo (Disputed Territory)\",\"Kuwait\",\"Kyrgyzstan\",\"Laos\"\n",
    "              ,\"Latvia\",\"Lebanon\",\"Lesotho\",\"Liberia\",\"Libya\",\"Lithuania\"\n",
    "              ,\"Luxembourg\",\"Macao\",\"Macedonia\",\"Madagascar\",\"Malawi\"\n",
    "              ,\"Malaysia\",\"Maldives\",\"Mali\",\"Malta\",\"Mauritania\",\"Mauritius\"\n",
    "              ,\"Mexico\",\"Micronesia\",\"Moldova\",\"Monaco\",\"Mongolia\",\"Montenegro\"\n",
    "              ,\"Morocco\",\"Mozambique\",\"Myanmar\",\"Namibia\",\"Nepal\",\"Netherlands\"\n",
    "              ,\"New Caledonia\",\"New Zealand\",\"Nicaragua\",\"Nigeria\",\"Northern Mariana Islands\"\n",
    "              ,\"Norway\",\"Oman\",\"Pakistan\",\"Palestinian Territory\",\"Panama\",\"Papua New Guinea\"\n",
    "              ,\"Paraguay\",\"Peru\",\"Philippines\",\"Poland\",\"Portugal\",\"Puerto Rico\",\"Qatar\"\n",
    "              ,\"Reunion\",\"Romania\",\"Russia\",\"Rwanda\",\"Saint Kitts And Nevis\",\"Saint Lucia\"\n",
    "              ,\"Saint Vincent And The Grenadines\",\"Samoa\",\"Saudi Arabia\",\"Senegal\",\"Serbia\"\n",
    "              ,\"Seychelles\",\"Singapore\",\"Sint Maarten\",\"Slovakia\",\"Slovenia\",\"Somalia\",\"South Africa\"\n",
    "              ,\"South Korea\",\"South Sudan\",\"Spain\",\"Sri Lanka\",\"Sudan\",\"Suriname\",\"Swaziland\"\n",
    "              ,\"Sweden\",\"Switzerland\",\"Syria\",\"Taiwan\",\"Tajikistan\",\"Tanzania\",\"Thailand\",\"Timor-Leste\"\n",
    "              ,\"Togo\",\"Tonga\",\"Trinidad And Tobago\",\"Tunisia\",\"Turkey\",\"Turkmenistan\",\"Turks And Caicos Islands\"\n",
    "              ,\"Uganda\",\"Ukraine\",\"United Arab Emirates\",\"United Kingdom\",\"United States\"\n",
    "              ,\"Uruguay\",\"Us Virgin Islands\",\"Uzbekistan\",\"Vanuatu\",\"Venezuela\",\"Vietnam\"\n",
    "              ,\"Yemen\",\"Zambia\",\"Zimbabwe\")"
   ]
  },
  {
   "cell_type": "markdown",
   "metadata": {},
   "source": [
    "Noticing that the URL for countries with spaces are addressed with +'s\n",
    "![Spaces URL address space](./images/spaceURL.png)"
   ]
  },
  {
   "cell_type": "markdown",
   "metadata": {},
   "source": [
    "## The Crawl Function\n",
    "This is the function that takes a country and create the URL needed to get the table for that country"
   ]
  },
  {
   "cell_type": "code",
   "execution_count": 5,
   "metadata": {
    "collapsed": true
   },
   "outputs": [],
   "source": [
    "getCoL = function(country){\n",
    "\n",
    "    now = Sys.time()\n",
    "\n",
    "    writeLines(str_c(now, \"Scraping \", country, sep=\"\\t\"))\n",
    "    URL = str_c(\"https://www.numbeo.com/cost-of-living/country_result.jsp?country=\", country, sep=\"\")\n",
    "    #get html from page\n",
    "    CoL_page = read_html(URL) \n",
    "    #get all the tables on the pages\n",
    "    CoL_elements = html_nodes(x = CoL_page, css = \"table\") \n",
    "    #3rd table returned\n",
    "    CoL_text = html_text(CoL_elements[3], trim = TRUE) \n",
    "    #removing table from list\n",
    "    CoL_table = as_tibble(html_table(CoL_elements[3])[[1]])\n",
    "    #rename the columns\n",
    "    colnames(CoL_table) = c(\"item\", 'avgPrice', 'range') \n",
    "    #remove categories that corrupt table\n",
    "    CoL_table = CoL_table %>% filter(avgPrice != \"[ Edit ]\") \n",
    "    #split the numbers out of the avgPrice column to identify currency used,\n",
    "    #     currency_pass_1 = CoL_table %>% select(avgPrice) %>% unlist() %>% str_split(\"[0-9]\") ,\n",
    "    #     currency = str_split(currency_pass_1[[1]], \" \") %>% tail(1) %>% unlist()\n",
    "    writeLines(paste0(\"Time:\\t\\t \", Sys.time() -now))\n",
    "    return(CoL_table)\n",
    "}"
   ]
  },
  {
   "cell_type": "code",
   "execution_count": 6,
   "metadata": {},
   "outputs": [
    {
     "name": "stdout",
     "output_type": "stream",
     "text": [
      "2017-08-21 13:23:33\tScraping \tAfghanistan\n",
      "Time:\t\t 1.17964100837708\n",
      "2017-08-21 13:23:34\tScraping \tAland+Islands\n",
      "Time:\t\t 1.18362998962402\n",
      "2017-08-21 13:23:35\tScraping \tAlbania\n",
      "Time:\t\t 1.17282485961914\n",
      "2017-08-21 13:23:36\tScraping \tAlgeria\n",
      "Time:\t\t 1.19793105125427\n",
      "2017-08-21 13:23:38\tScraping \tAndorra\n",
      "Time:\t\t 1.17823481559753\n",
      "2017-08-21 13:23:39\tScraping \tAngola\n",
      "Time:\t\t 1.20951199531555\n",
      "2017-08-21 13:23:40\tScraping \tAntigua+And+Barbuda\n",
      "Time:\t\t 1.18173599243164\n",
      "2017-08-21 13:23:41\tScraping \tArgentina\n",
      "Time:\t\t 1.18727993965149\n",
      "2017-08-21 13:23:42\tScraping \tArmenia\n",
      "Time:\t\t 1.17934107780457\n",
      "2017-08-21 13:23:44\tScraping \tAruba\n",
      "Time:\t\t 1.18879008293152\n",
      "2017-08-21 13:23:45\tScraping \tAustralia\n",
      "Time:\t\t 1.25242280960083\n",
      "2017-08-21 13:23:46\tScraping \tAustria\n",
      "Time:\t\t 1.17434692382812\n",
      "2017-08-21 13:23:47\tScraping \tAzerbaijan\n",
      "Time:\t\t 1.2283570766449\n",
      "2017-08-21 13:23:48\tScraping \tBahamas\n",
      "Time:\t\t 1.1672899723053\n",
      "2017-08-21 13:23:50\tScraping \tBahrain\n",
      "Time:\t\t 1.18383884429932\n",
      "2017-08-21 13:23:51\tScraping \tBangladesh\n",
      "Time:\t\t 1.21100091934204\n",
      "2017-08-21 13:23:52\tScraping \tBarbados\n",
      "Time:\t\t 1.2294979095459\n",
      "2017-08-21 13:23:53\tScraping \tBelarus\n",
      "Time:\t\t 1.18940591812134\n",
      "2017-08-21 13:23:54\tScraping \tBelgium\n",
      "Time:\t\t 1.22464513778687\n",
      "2017-08-21 13:23:56\tScraping \tBelize\n",
      "Time:\t\t 1.20121693611145\n"
     ]
    },
    {
     "data": {
      "text/plain": [
       "Time difference of 23.93127 secs"
      ]
     },
     "metadata": {},
     "output_type": "display_data"
    }
   ],
   "source": [
    "now = Sys.time()\n",
    "countries_plus = lapply(countries[1:20], function(x) gsub(\" \", \"+\", x, fixed=TRUE))\n",
    "country_tibbles = lapply(countries_plus, function(x) getCoL(x))\n",
    "Sys.time()-now"
   ]
  },
  {
   "cell_type": "code",
   "execution_count": 12,
   "metadata": {},
   "outputs": [
    {
     "name": "stdout",
     "output_type": "stream",
     "text": [
      "[1] \"1 - 3.67 $\"\n",
      "[1] \"2 - 10.40 €\"\n",
      "[1] \"3 - 661.83 Lek\"\n",
      "[1] \"4 - 300.00 DZD\"\n",
      "[1] \"5 - 10.00 €\"\n",
      "[1] \"6 - 19.29 $\"\n",
      "[1] \"7 - 25.00 EC$\"\n",
      "[1] \"8 - 160.00 ARS\"\n",
      "[1] \"9 - 3,000.00 AMD\"\n",
      "[1] \"10 - 11.00 $\"\n",
      "[1] \"11 - 18.00 A$\"\n",
      "[1] \"12 - 10.00 €\"\n",
      "[1] \"13 - 8.00 man\"\n",
      "[1] \"14 - 16.50 $\"\n",
      "[1] \"15 - 2.00 BHD\"\n",
      "[1] \"16 - 180.00 ৳\"\n",
      "[1] \"17 - 25.00 Bds$\"\n",
      "[1] \"18 - 6.83 $\"\n",
      "[1] \"19 - 15.00 €\"\n",
      "[1] \"20 - 4.00 $\"\n"
     ]
    }
   ],
   "source": [
    "#finding a few countries with the same currency\n",
    "for(i in 1:20){print(paste0(i,\" - \",country_tibbles[[i]]$avgPrice[1]))}"
   ]
  },
  {
   "cell_type": "code",
   "execution_count": 15,
   "metadata": {},
   "outputs": [
    {
     "name": "stdout",
     "output_type": "stream",
     "text": [
      "[1] \"Aland Islands\" \"Andorra\"       \"Austria\"       \"Belgium\"      \n"
     ]
    }
   ],
   "source": [
    "euro_countries = c(2,5,12,19)\n",
    "print(countries[euro_countries])"
   ]
  },
  {
   "cell_type": "code",
   "execution_count": 25,
   "metadata": {},
   "outputs": [
    {
     "name": "stdout",
     "output_type": "stream",
     "text": [
      "[1] \"Aland Islands\"\n"
     ]
    },
    {
     "data": {
      "text/html": [
       "<table>\n",
       "<thead><tr><th scope=col>item</th><th scope=col>avgPrice</th><th scope=col>range</th></tr></thead>\n",
       "<tbody>\n",
       "\t<tr><td>Meal, Inexpensive Restaurant                         </td><td>10.40 €                                              </td><td>10.00-14.00                                          </td></tr>\n",
       "\t<tr><td>Meal for 2 People, Mid-range Restaurant, Three-course</td><td>70.00 €                                              </td><td>52.00-80.00                                          </td></tr>\n",
       "\t<tr><td>McMeal at McDonalds (or Equivalent Combo Meal)       </td><td>7.95 €                                               </td><td>7.90-8.00                                            </td></tr>\n",
       "\t<tr><td>Domestic Beer (0.5 liter draught)                    </td><td>6.00 €                                               </td><td>5.00-6.00                                            </td></tr>\n",
       "\t<tr><td>Imported Beer (0.33 liter bottle)                    </td><td>5.00 €                                               </td><td>3.00-7.00                                            </td></tr>\n",
       "\t<tr><td>Cappuccino (regular)                                 </td><td>3.00 €                                               </td><td>2.00-4.00                                            </td></tr>\n",
       "\t<tr><td>Coke/Pepsi (0.33 liter bottle)                       </td><td>1.40 €                                               </td><td>1.00-2.50                                            </td></tr>\n",
       "\t<tr><td>Water (0.33 liter bottle)                            </td><td>1.50 €                                               </td><td>0.50-2.50                                            </td></tr>\n",
       "\t<tr><td>Milk (regular), (1 liter)                            </td><td>1.15 €                                               </td><td>1.00-1.30                                            </td></tr>\n",
       "\t<tr><td>Loaf of Fresh White Bread (500g)                     </td><td>2.70 €                                               </td><td>1.40-4.00                                            </td></tr>\n",
       "</tbody>\n",
       "</table>\n"
      ],
      "text/latex": [
       "\\begin{tabular}{r|lll}\n",
       " item & avgPrice & range\\\\\n",
       "\\hline\n",
       "\t Meal, Inexpensive Restaurant                          & 10.40 €                                               & 10.00-14.00                                          \\\\\n",
       "\t Meal for 2 People, Mid-range Restaurant, Three-course & 70.00 €                                               & 52.00-80.00                                          \\\\\n",
       "\t McMeal at McDonalds (or Equivalent Combo Meal)        & 7.95 €                                                & 7.90-8.00                                            \\\\\n",
       "\t Domestic Beer (0.5 liter draught)                     & 6.00 €                                                & 5.00-6.00                                            \\\\\n",
       "\t Imported Beer (0.33 liter bottle)                     & 5.00 €                                                & 3.00-7.00                                            \\\\\n",
       "\t Cappuccino (regular)                                  & 3.00 €                                                & 2.00-4.00                                            \\\\\n",
       "\t Coke/Pepsi (0.33 liter bottle)                        & 1.40 €                                                & 1.00-2.50                                            \\\\\n",
       "\t Water (0.33 liter bottle)                             & 1.50 €                                                & 0.50-2.50                                            \\\\\n",
       "\t Milk (regular), (1 liter)                             & 1.15 €                                                & 1.00-1.30                                            \\\\\n",
       "\t Loaf of Fresh White Bread (500g)                      & 2.70 €                                                & 1.40-4.00                                            \\\\\n",
       "\\end{tabular}\n"
      ],
      "text/markdown": [
       "\n",
       "item | avgPrice | range | \n",
       "|---|---|---|---|---|---|---|---|---|---|\n",
       "| Meal, Inexpensive Restaurant                          | 10.40 €                                               | 10.00-14.00                                           | \n",
       "| Meal for 2 People, Mid-range Restaurant, Three-course | 70.00 €                                               | 52.00-80.00                                           | \n",
       "| McMeal at McDonalds (or Equivalent Combo Meal)        | 7.95 €                                                | 7.90-8.00                                             | \n",
       "| Domestic Beer (0.5 liter draught)                     | 6.00 €                                                | 5.00-6.00                                             | \n",
       "| Imported Beer (0.33 liter bottle)                     | 5.00 €                                                | 3.00-7.00                                             | \n",
       "| Cappuccino (regular)                                  | 3.00 €                                                | 2.00-4.00                                             | \n",
       "| Coke/Pepsi (0.33 liter bottle)                        | 1.40 €                                                | 1.00-2.50                                             | \n",
       "| Water (0.33 liter bottle)                             | 1.50 €                                                | 0.50-2.50                                             | \n",
       "| Milk (regular), (1 liter)                             | 1.15 €                                                | 1.00-1.30                                             | \n",
       "| Loaf of Fresh White Bread (500g)                      | 2.70 €                                                | 1.40-4.00                                             | \n",
       "\n",
       "\n"
      ],
      "text/plain": [
       "   item                                                  avgPrice range      \n",
       "1  Meal, Inexpensive Restaurant                          10.40 €  10.00-14.00\n",
       "2  Meal for 2 People, Mid-range Restaurant, Three-course 70.00 €  52.00-80.00\n",
       "3  McMeal at McDonalds (or Equivalent Combo Meal)        7.95 €   7.90-8.00  \n",
       "4  Domestic Beer (0.5 liter draught)                     6.00 €   5.00-6.00  \n",
       "5  Imported Beer (0.33 liter bottle)                     5.00 €   3.00-7.00  \n",
       "6  Cappuccino (regular)                                  3.00 €   2.00-4.00  \n",
       "7  Coke/Pepsi (0.33 liter bottle)                        1.40 €   1.00-2.50  \n",
       "8  Water (0.33 liter bottle)                             1.50 €   0.50-2.50  \n",
       "9  Milk (regular), (1 liter)                             1.15 €   1.00-1.30  \n",
       "10 Loaf of Fresh White Bread (500g)                      2.70 €   1.40-4.00  "
      ]
     },
     "metadata": {},
     "output_type": "display_data"
    },
    {
     "name": "stdout",
     "output_type": "stream",
     "text": [
      "[1] \"Andorra\"\n"
     ]
    },
    {
     "data": {
      "text/html": [
       "<table>\n",
       "<thead><tr><th scope=col>item</th><th scope=col>avgPrice</th><th scope=col>range</th></tr></thead>\n",
       "<tbody>\n",
       "\t<tr><td>Meal, Inexpensive Restaurant                         </td><td>10.40 €                                              </td><td>10.00-14.00                                          </td></tr>\n",
       "\t<tr><td>Meal for 2 People, Mid-range Restaurant, Three-course</td><td>70.00 €                                              </td><td>52.00-80.00                                          </td></tr>\n",
       "\t<tr><td>McMeal at McDonalds (or Equivalent Combo Meal)       </td><td>7.95 €                                               </td><td>7.90-8.00                                            </td></tr>\n",
       "\t<tr><td>Domestic Beer (0.5 liter draught)                    </td><td>6.00 €                                               </td><td>5.00-6.00                                            </td></tr>\n",
       "\t<tr><td>Imported Beer (0.33 liter bottle)                    </td><td>5.00 €                                               </td><td>3.00-7.00                                            </td></tr>\n",
       "\t<tr><td>Cappuccino (regular)                                 </td><td>3.00 €                                               </td><td>2.00-4.00                                            </td></tr>\n",
       "\t<tr><td>Coke/Pepsi (0.33 liter bottle)                       </td><td>1.40 €                                               </td><td>1.00-2.50                                            </td></tr>\n",
       "\t<tr><td>Water (0.33 liter bottle)                            </td><td>1.50 €                                               </td><td>0.50-2.50                                            </td></tr>\n",
       "\t<tr><td>Milk (regular), (1 liter)                            </td><td>1.15 €                                               </td><td>1.00-1.30                                            </td></tr>\n",
       "\t<tr><td>Loaf of Fresh White Bread (500g)                     </td><td>2.70 €                                               </td><td>1.40-4.00                                            </td></tr>\n",
       "</tbody>\n",
       "</table>\n"
      ],
      "text/latex": [
       "\\begin{tabular}{r|lll}\n",
       " item & avgPrice & range\\\\\n",
       "\\hline\n",
       "\t Meal, Inexpensive Restaurant                          & 10.40 €                                               & 10.00-14.00                                          \\\\\n",
       "\t Meal for 2 People, Mid-range Restaurant, Three-course & 70.00 €                                               & 52.00-80.00                                          \\\\\n",
       "\t McMeal at McDonalds (or Equivalent Combo Meal)        & 7.95 €                                                & 7.90-8.00                                            \\\\\n",
       "\t Domestic Beer (0.5 liter draught)                     & 6.00 €                                                & 5.00-6.00                                            \\\\\n",
       "\t Imported Beer (0.33 liter bottle)                     & 5.00 €                                                & 3.00-7.00                                            \\\\\n",
       "\t Cappuccino (regular)                                  & 3.00 €                                                & 2.00-4.00                                            \\\\\n",
       "\t Coke/Pepsi (0.33 liter bottle)                        & 1.40 €                                                & 1.00-2.50                                            \\\\\n",
       "\t Water (0.33 liter bottle)                             & 1.50 €                                                & 0.50-2.50                                            \\\\\n",
       "\t Milk (regular), (1 liter)                             & 1.15 €                                                & 1.00-1.30                                            \\\\\n",
       "\t Loaf of Fresh White Bread (500g)                      & 2.70 €                                                & 1.40-4.00                                            \\\\\n",
       "\\end{tabular}\n"
      ],
      "text/markdown": [
       "\n",
       "item | avgPrice | range | \n",
       "|---|---|---|---|---|---|---|---|---|---|\n",
       "| Meal, Inexpensive Restaurant                          | 10.40 €                                               | 10.00-14.00                                           | \n",
       "| Meal for 2 People, Mid-range Restaurant, Three-course | 70.00 €                                               | 52.00-80.00                                           | \n",
       "| McMeal at McDonalds (or Equivalent Combo Meal)        | 7.95 €                                                | 7.90-8.00                                             | \n",
       "| Domestic Beer (0.5 liter draught)                     | 6.00 €                                                | 5.00-6.00                                             | \n",
       "| Imported Beer (0.33 liter bottle)                     | 5.00 €                                                | 3.00-7.00                                             | \n",
       "| Cappuccino (regular)                                  | 3.00 €                                                | 2.00-4.00                                             | \n",
       "| Coke/Pepsi (0.33 liter bottle)                        | 1.40 €                                                | 1.00-2.50                                             | \n",
       "| Water (0.33 liter bottle)                             | 1.50 €                                                | 0.50-2.50                                             | \n",
       "| Milk (regular), (1 liter)                             | 1.15 €                                                | 1.00-1.30                                             | \n",
       "| Loaf of Fresh White Bread (500g)                      | 2.70 €                                                | 1.40-4.00                                             | \n",
       "\n",
       "\n"
      ],
      "text/plain": [
       "   item                                                  avgPrice range      \n",
       "1  Meal, Inexpensive Restaurant                          10.40 €  10.00-14.00\n",
       "2  Meal for 2 People, Mid-range Restaurant, Three-course 70.00 €  52.00-80.00\n",
       "3  McMeal at McDonalds (or Equivalent Combo Meal)        7.95 €   7.90-8.00  \n",
       "4  Domestic Beer (0.5 liter draught)                     6.00 €   5.00-6.00  \n",
       "5  Imported Beer (0.33 liter bottle)                     5.00 €   3.00-7.00  \n",
       "6  Cappuccino (regular)                                  3.00 €   2.00-4.00  \n",
       "7  Coke/Pepsi (0.33 liter bottle)                        1.40 €   1.00-2.50  \n",
       "8  Water (0.33 liter bottle)                             1.50 €   0.50-2.50  \n",
       "9  Milk (regular), (1 liter)                             1.15 €   1.00-1.30  \n",
       "10 Loaf of Fresh White Bread (500g)                      2.70 €   1.40-4.00  "
      ]
     },
     "metadata": {},
     "output_type": "display_data"
    },
    {
     "name": "stdout",
     "output_type": "stream",
     "text": [
      "[1] \"Austria\"\n"
     ]
    },
    {
     "data": {
      "text/html": [
       "<table>\n",
       "<thead><tr><th scope=col>item</th><th scope=col>avgPrice</th><th scope=col>range</th></tr></thead>\n",
       "<tbody>\n",
       "\t<tr><td>Meal, Inexpensive Restaurant                         </td><td>10.40 €                                              </td><td>10.00-14.00                                          </td></tr>\n",
       "\t<tr><td>Meal for 2 People, Mid-range Restaurant, Three-course</td><td>70.00 €                                              </td><td>52.00-80.00                                          </td></tr>\n",
       "\t<tr><td>McMeal at McDonalds (or Equivalent Combo Meal)       </td><td>7.95 €                                               </td><td>7.90-8.00                                            </td></tr>\n",
       "\t<tr><td>Domestic Beer (0.5 liter draught)                    </td><td>6.00 €                                               </td><td>5.00-6.00                                            </td></tr>\n",
       "\t<tr><td>Imported Beer (0.33 liter bottle)                    </td><td>5.00 €                                               </td><td>3.00-7.00                                            </td></tr>\n",
       "\t<tr><td>Cappuccino (regular)                                 </td><td>3.00 €                                               </td><td>2.00-4.00                                            </td></tr>\n",
       "\t<tr><td>Coke/Pepsi (0.33 liter bottle)                       </td><td>1.40 €                                               </td><td>1.00-2.50                                            </td></tr>\n",
       "\t<tr><td>Water (0.33 liter bottle)                            </td><td>1.50 €                                               </td><td>0.50-2.50                                            </td></tr>\n",
       "\t<tr><td>Milk (regular), (1 liter)                            </td><td>1.15 €                                               </td><td>1.00-1.30                                            </td></tr>\n",
       "\t<tr><td>Loaf of Fresh White Bread (500g)                     </td><td>2.70 €                                               </td><td>1.40-4.00                                            </td></tr>\n",
       "</tbody>\n",
       "</table>\n"
      ],
      "text/latex": [
       "\\begin{tabular}{r|lll}\n",
       " item & avgPrice & range\\\\\n",
       "\\hline\n",
       "\t Meal, Inexpensive Restaurant                          & 10.40 €                                               & 10.00-14.00                                          \\\\\n",
       "\t Meal for 2 People, Mid-range Restaurant, Three-course & 70.00 €                                               & 52.00-80.00                                          \\\\\n",
       "\t McMeal at McDonalds (or Equivalent Combo Meal)        & 7.95 €                                                & 7.90-8.00                                            \\\\\n",
       "\t Domestic Beer (0.5 liter draught)                     & 6.00 €                                                & 5.00-6.00                                            \\\\\n",
       "\t Imported Beer (0.33 liter bottle)                     & 5.00 €                                                & 3.00-7.00                                            \\\\\n",
       "\t Cappuccino (regular)                                  & 3.00 €                                                & 2.00-4.00                                            \\\\\n",
       "\t Coke/Pepsi (0.33 liter bottle)                        & 1.40 €                                                & 1.00-2.50                                            \\\\\n",
       "\t Water (0.33 liter bottle)                             & 1.50 €                                                & 0.50-2.50                                            \\\\\n",
       "\t Milk (regular), (1 liter)                             & 1.15 €                                                & 1.00-1.30                                            \\\\\n",
       "\t Loaf of Fresh White Bread (500g)                      & 2.70 €                                                & 1.40-4.00                                            \\\\\n",
       "\\end{tabular}\n"
      ],
      "text/markdown": [
       "\n",
       "item | avgPrice | range | \n",
       "|---|---|---|---|---|---|---|---|---|---|\n",
       "| Meal, Inexpensive Restaurant                          | 10.40 €                                               | 10.00-14.00                                           | \n",
       "| Meal for 2 People, Mid-range Restaurant, Three-course | 70.00 €                                               | 52.00-80.00                                           | \n",
       "| McMeal at McDonalds (or Equivalent Combo Meal)        | 7.95 €                                                | 7.90-8.00                                             | \n",
       "| Domestic Beer (0.5 liter draught)                     | 6.00 €                                                | 5.00-6.00                                             | \n",
       "| Imported Beer (0.33 liter bottle)                     | 5.00 €                                                | 3.00-7.00                                             | \n",
       "| Cappuccino (regular)                                  | 3.00 €                                                | 2.00-4.00                                             | \n",
       "| Coke/Pepsi (0.33 liter bottle)                        | 1.40 €                                                | 1.00-2.50                                             | \n",
       "| Water (0.33 liter bottle)                             | 1.50 €                                                | 0.50-2.50                                             | \n",
       "| Milk (regular), (1 liter)                             | 1.15 €                                                | 1.00-1.30                                             | \n",
       "| Loaf of Fresh White Bread (500g)                      | 2.70 €                                                | 1.40-4.00                                             | \n",
       "\n",
       "\n"
      ],
      "text/plain": [
       "   item                                                  avgPrice range      \n",
       "1  Meal, Inexpensive Restaurant                          10.40 €  10.00-14.00\n",
       "2  Meal for 2 People, Mid-range Restaurant, Three-course 70.00 €  52.00-80.00\n",
       "3  McMeal at McDonalds (or Equivalent Combo Meal)        7.95 €   7.90-8.00  \n",
       "4  Domestic Beer (0.5 liter draught)                     6.00 €   5.00-6.00  \n",
       "5  Imported Beer (0.33 liter bottle)                     5.00 €   3.00-7.00  \n",
       "6  Cappuccino (regular)                                  3.00 €   2.00-4.00  \n",
       "7  Coke/Pepsi (0.33 liter bottle)                        1.40 €   1.00-2.50  \n",
       "8  Water (0.33 liter bottle)                             1.50 €   0.50-2.50  \n",
       "9  Milk (regular), (1 liter)                             1.15 €   1.00-1.30  \n",
       "10 Loaf of Fresh White Bread (500g)                      2.70 €   1.40-4.00  "
      ]
     },
     "metadata": {},
     "output_type": "display_data"
    },
    {
     "name": "stdout",
     "output_type": "stream",
     "text": [
      "[1] \"Belgium\"\n"
     ]
    },
    {
     "data": {
      "text/html": [
       "<table>\n",
       "<thead><tr><th scope=col>item</th><th scope=col>avgPrice</th><th scope=col>range</th></tr></thead>\n",
       "<tbody>\n",
       "\t<tr><td>Meal, Inexpensive Restaurant                         </td><td>10.40 €                                              </td><td>10.00-14.00                                          </td></tr>\n",
       "\t<tr><td>Meal for 2 People, Mid-range Restaurant, Three-course</td><td>70.00 €                                              </td><td>52.00-80.00                                          </td></tr>\n",
       "\t<tr><td>McMeal at McDonalds (or Equivalent Combo Meal)       </td><td>7.95 €                                               </td><td>7.90-8.00                                            </td></tr>\n",
       "\t<tr><td>Domestic Beer (0.5 liter draught)                    </td><td>6.00 €                                               </td><td>5.00-6.00                                            </td></tr>\n",
       "\t<tr><td>Imported Beer (0.33 liter bottle)                    </td><td>5.00 €                                               </td><td>3.00-7.00                                            </td></tr>\n",
       "\t<tr><td>Cappuccino (regular)                                 </td><td>3.00 €                                               </td><td>2.00-4.00                                            </td></tr>\n",
       "\t<tr><td>Coke/Pepsi (0.33 liter bottle)                       </td><td>1.40 €                                               </td><td>1.00-2.50                                            </td></tr>\n",
       "\t<tr><td>Water (0.33 liter bottle)                            </td><td>1.50 €                                               </td><td>0.50-2.50                                            </td></tr>\n",
       "\t<tr><td>Milk (regular), (1 liter)                            </td><td>1.15 €                                               </td><td>1.00-1.30                                            </td></tr>\n",
       "\t<tr><td>Loaf of Fresh White Bread (500g)                     </td><td>2.70 €                                               </td><td>1.40-4.00                                            </td></tr>\n",
       "</tbody>\n",
       "</table>\n"
      ],
      "text/latex": [
       "\\begin{tabular}{r|lll}\n",
       " item & avgPrice & range\\\\\n",
       "\\hline\n",
       "\t Meal, Inexpensive Restaurant                          & 10.40 €                                               & 10.00-14.00                                          \\\\\n",
       "\t Meal for 2 People, Mid-range Restaurant, Three-course & 70.00 €                                               & 52.00-80.00                                          \\\\\n",
       "\t McMeal at McDonalds (or Equivalent Combo Meal)        & 7.95 €                                                & 7.90-8.00                                            \\\\\n",
       "\t Domestic Beer (0.5 liter draught)                     & 6.00 €                                                & 5.00-6.00                                            \\\\\n",
       "\t Imported Beer (0.33 liter bottle)                     & 5.00 €                                                & 3.00-7.00                                            \\\\\n",
       "\t Cappuccino (regular)                                  & 3.00 €                                                & 2.00-4.00                                            \\\\\n",
       "\t Coke/Pepsi (0.33 liter bottle)                        & 1.40 €                                                & 1.00-2.50                                            \\\\\n",
       "\t Water (0.33 liter bottle)                             & 1.50 €                                                & 0.50-2.50                                            \\\\\n",
       "\t Milk (regular), (1 liter)                             & 1.15 €                                                & 1.00-1.30                                            \\\\\n",
       "\t Loaf of Fresh White Bread (500g)                      & 2.70 €                                                & 1.40-4.00                                            \\\\\n",
       "\\end{tabular}\n"
      ],
      "text/markdown": [
       "\n",
       "item | avgPrice | range | \n",
       "|---|---|---|---|---|---|---|---|---|---|\n",
       "| Meal, Inexpensive Restaurant                          | 10.40 €                                               | 10.00-14.00                                           | \n",
       "| Meal for 2 People, Mid-range Restaurant, Three-course | 70.00 €                                               | 52.00-80.00                                           | \n",
       "| McMeal at McDonalds (or Equivalent Combo Meal)        | 7.95 €                                                | 7.90-8.00                                             | \n",
       "| Domestic Beer (0.5 liter draught)                     | 6.00 €                                                | 5.00-6.00                                             | \n",
       "| Imported Beer (0.33 liter bottle)                     | 5.00 €                                                | 3.00-7.00                                             | \n",
       "| Cappuccino (regular)                                  | 3.00 €                                                | 2.00-4.00                                             | \n",
       "| Coke/Pepsi (0.33 liter bottle)                        | 1.40 €                                                | 1.00-2.50                                             | \n",
       "| Water (0.33 liter bottle)                             | 1.50 €                                                | 0.50-2.50                                             | \n",
       "| Milk (regular), (1 liter)                             | 1.15 €                                                | 1.00-1.30                                             | \n",
       "| Loaf of Fresh White Bread (500g)                      | 2.70 €                                                | 1.40-4.00                                             | \n",
       "\n",
       "\n"
      ],
      "text/plain": [
       "   item                                                  avgPrice range      \n",
       "1  Meal, Inexpensive Restaurant                          10.40 €  10.00-14.00\n",
       "2  Meal for 2 People, Mid-range Restaurant, Three-course 70.00 €  52.00-80.00\n",
       "3  McMeal at McDonalds (or Equivalent Combo Meal)        7.95 €   7.90-8.00  \n",
       "4  Domestic Beer (0.5 liter draught)                     6.00 €   5.00-6.00  \n",
       "5  Imported Beer (0.33 liter bottle)                     5.00 €   3.00-7.00  \n",
       "6  Cappuccino (regular)                                  3.00 €   2.00-4.00  \n",
       "7  Coke/Pepsi (0.33 liter bottle)                        1.40 €   1.00-2.50  \n",
       "8  Water (0.33 liter bottle)                             1.50 €   0.50-2.50  \n",
       "9  Milk (regular), (1 liter)                             1.15 €   1.00-1.30  \n",
       "10 Loaf of Fresh White Bread (500g)                      2.70 €   1.40-4.00  "
      ]
     },
     "metadata": {},
     "output_type": "display_data"
    }
   ],
   "source": [
    "print(\"Aland Islands\")\n",
    "country_tibbles[2][[1]][1:10,]\n",
    "\n",
    "print(\"Andorra\")\n",
    "country_tibbles[2][[1]][1:10,]\n",
    "\n",
    "print(\"Austria\")\n",
    "country_tibbles[2][[1]][1:10,]\n",
    "\n",
    "print(\"Belgium\")\n",
    "country_tibbles[2][[1]][1:10,]"
   ]
  },
  {
   "cell_type": "markdown",
   "metadata": {},
   "source": [
    "To my suprise all of the prices are the same... 🤦‍. This can be improved by scraping currencies and comparing the countries to a universal metric"
   ]
  }
 ],
 "metadata": {
  "kernelspec": {
   "display_name": "R",
   "language": "R",
   "name": "ir"
  },
  "language_info": {
   "codemirror_mode": "r",
   "file_extension": ".r",
   "mimetype": "text/x-r-source",
   "name": "R",
   "pygments_lexer": "r",
   "version": "3.3.3"
  }
 },
 "nbformat": 4,
 "nbformat_minor": 2
}
