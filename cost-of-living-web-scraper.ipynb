{
 "cells": [
  {
   "cell_type": "markdown",
   "metadata": {},
   "source": [
    "# Cost of Living (CoL) Web Scraper"
   ]
  },
  {
   "cell_type": "markdown",
   "metadata": {},
   "source": [
    "## Required Packages"
   ]
  },
  {
   "cell_type": "code",
   "execution_count": 1,
   "metadata": {},
   "outputs": [
    {
     "name": "stderr",
     "output_type": "stream",
     "text": [
      "Loading required package: xml2\n",
      "Loading tidyverse: ggplot2\n",
      "Loading tidyverse: tibble\n",
      "Loading tidyverse: tidyr\n",
      "Loading tidyverse: readr\n",
      "Loading tidyverse: purrr\n",
      "Loading tidyverse: dplyr\n",
      "Conflicts with tidy packages ---------------------------------------------------\n",
      "filter(): dplyr, stats\n",
      "lag():    dplyr, stats\n"
     ]
    }
   ],
   "source": [
    "library(rvest)\n",
    "library(tidyverse)\n",
    "library(stringr)"
   ]
  },
  {
   "cell_type": "markdown",
   "metadata": {},
   "source": [
    "## Reading the webpage \n",
    "\n",
    "Reading the webpage and aiming for the data_wide_table selector, this is the 3rd returned table from html_nodes below\n",
    "![Numbeo Page](./images/numbeo_swazi.png)"
   ]
  },
  {
   "cell_type": "code",
   "execution_count": 2,
   "metadata": {
    "collapsed": true,
    "scrolled": true
   },
   "outputs": [],
   "source": [
    "CoL_page <- read_html(\"https://www.numbeo.com/cost-of-living/country_result.jsp?country=Swaziland\") #get html from page\n",
    "CoL_elements <- html_nodes(x = CoL_page, css = \"table\") #get all the tables on the pages\n",
    "CoL_text = html_text(CoL_elements[3], trim = TRUE) #3rd table returned\n",
    "CoL_table = as_tibble(html_table(CoL_elements[3])[[1]])#removing table from list"
   ]
  },
  {
   "cell_type": "code",
   "execution_count": 3,
   "metadata": {},
   "outputs": [
    {
     "data": {
      "text/html": [
       "<table>\n",
       "<thead><tr><th scope=col>item</th><th scope=col>avgPrice</th><th scope=col>range</th></tr></thead>\n",
       "<tbody>\n",
       "\t<tr><td>Meal, Inexpensive Restaurant                         </td><td>70.00 R                                              </td><td>50.00-70.00                                          </td></tr>\n",
       "\t<tr><td>Meal for 2 People, Mid-range Restaurant, Three-course</td><td>300.00 R                                             </td><td>300.00-400.00                                        </td></tr>\n",
       "\t<tr><td>McMeal at McDonalds (or Equivalent Combo Meal)       </td><td>50.00 R                                              </td><td>50.00-59.00                                          </td></tr>\n",
       "\t<tr><td>Domestic Beer (0.5 liter draught)                    </td><td>13.00 R                                              </td><td>11.00-15.00                                          </td></tr>\n",
       "\t<tr><td>Imported Beer (0.33 liter bottle)                    </td><td>17.50 R                                              </td><td>12.00-20.00                                          </td></tr>\n",
       "</tbody>\n",
       "</table>\n"
      ],
      "text/latex": [
       "\\begin{tabular}{r|lll}\n",
       " item & avgPrice & range\\\\\n",
       "\\hline\n",
       "\t Meal, Inexpensive Restaurant                          & 70.00 R                                               & 50.00-70.00                                          \\\\\n",
       "\t Meal for 2 People, Mid-range Restaurant, Three-course & 300.00 R                                              & 300.00-400.00                                        \\\\\n",
       "\t McMeal at McDonalds (or Equivalent Combo Meal)        & 50.00 R                                               & 50.00-59.00                                          \\\\\n",
       "\t Domestic Beer (0.5 liter draught)                     & 13.00 R                                               & 11.00-15.00                                          \\\\\n",
       "\t Imported Beer (0.33 liter bottle)                     & 17.50 R                                               & 12.00-20.00                                          \\\\\n",
       "\\end{tabular}\n"
      ],
      "text/markdown": [
       "\n",
       "item | avgPrice | range | \n",
       "|---|---|---|---|---|\n",
       "| Meal, Inexpensive Restaurant                          | 70.00 R                                               | 50.00-70.00                                           | \n",
       "| Meal for 2 People, Mid-range Restaurant, Three-course | 300.00 R                                              | 300.00-400.00                                         | \n",
       "| McMeal at McDonalds (or Equivalent Combo Meal)        | 50.00 R                                               | 50.00-59.00                                           | \n",
       "| Domestic Beer (0.5 liter draught)                     | 13.00 R                                               | 11.00-15.00                                           | \n",
       "| Imported Beer (0.33 liter bottle)                     | 17.50 R                                               | 12.00-20.00                                           | \n",
       "\n",
       "\n"
      ],
      "text/plain": [
       "  item                                                  avgPrice range        \n",
       "1 Meal, Inexpensive Restaurant                          70.00 R  50.00-70.00  \n",
       "2 Meal for 2 People, Mid-range Restaurant, Three-course 300.00 R 300.00-400.00\n",
       "3 McMeal at McDonalds (or Equivalent Combo Meal)        50.00 R  50.00-59.00  \n",
       "4 Domestic Beer (0.5 liter draught)                     13.00 R  11.00-15.00  \n",
       "5 Imported Beer (0.33 liter bottle)                     17.50 R  12.00-20.00  "
      ]
     },
     "metadata": {},
     "output_type": "display_data"
    }
   ],
   "source": [
    "colnames(CoL_table) = c(\"item\", 'avgPrice', 'range') #rename the columns\n",
    "CoL_table = CoL_table %>% filter(avgPrice != \"[ Edit ]\") #remove categories that corrupt table\n",
    "CoL_table %>% head(5)"
   ]
  },
  {
   "cell_type": "markdown",
   "metadata": {},
   "source": [
    "## \"Borrowing\" Countries\n",
    "Using the Incpect Element function of google chrome, \"borrowing\" the countries from the numbeo home page\n",
    "\n",
    "![Borrowing Coutnries](./images/strealCountries.png)"
   ]
  },
  {
   "cell_type": "code",
   "execution_count": 4,
   "metadata": {
    "collapsed": true
   },
   "outputs": [],
   "source": [
    "countries = c(\"Afghanistan\",\"Aland Islands\",\"Albania\",\"Algeria\",\"Andorra\",\"Angola\",\"Antigua And Barbuda\",\"Argentina\",\"Armenia\",\"Aruba\",\"Australia\",\"Austria\",\"Azerbaijan\",\"Bahamas\",\"Bahrain\",\"Bangladesh\",\"Barbados\",\"Belarus\",\"Belgium\",\"Belize\",\"Bermuda\",\"Bhutan\",\"Bolivia\",\"Bosnia And Herzegovina\",\"Botswana\",\"Brazil\",\"British Virgin Islands\",\"Brunei\",\"Bulgaria\",\"Burkina Faso\",\"Burundi\",\"Cambodia\",\"Cameroon\",\"Canada\",\"Cape Verde\",\"Cayman Islands\",\"Chad\",\"Chile\",\"China\",\"Colombia\",\"Congo\",\"Costa Rica\",\"Croatia\",\"Cuba\",\"Curacao\",\"Cyprus\",\"Czech Republic\",\"Denmark\",\"Djibouti\",\"Dominica\",\"Dominican Republic\",\"Ecuador\",\"Egypt\",\"El Salvador\",\"Estonia\",\"Ethiopia\",\"Faroe Islands\",\"Fiji\",\"Finland\",\"France\",\"French Polynesia\",\"Gabon\",\"Gambia\",\"Georgia\",\"Germany\",\"Ghana\",\"Gibraltar\",\"Greece\",\"Greenland\",\"Grenada\",\"Guam\",\"Guatemala\",\"Guernsey\",\"Guyana\",\"Honduras\",\"Hong Kong\",\"Hungary\",\"Iceland\",\"India\",\"Indonesia\",\"Iran\",\"Iraq\",\"Ireland\",\"Isle Of Man\",\"Israel\",\"Italy\",\"Ivory Coast\",\"Jamaica\",\"Japan\",\"Jersey\",\"Jordan\",\"Kazakhstan\",\"Kenya\",\"Kosovo (Disputed Territory)\",\"Kuwait\",\"Kyrgyzstan\",\"Laos\",\"Latvia\",\"Lebanon\",\"Lesotho\",\"Liberia\",\"Libya\",\"Lithuania\",\"Luxembourg\",\"Macao\",\"Macedonia\",\"Madagascar\",\"Malawi\",\"Malaysia\",\"Maldives\",\"Mali\",\"Malta\",\"Mauritania\",\"Mauritius\",\"Mexico\",\"Micronesia\",\"Moldova\",\"Monaco\",\"Mongolia\",\"Montenegro\",\"Morocco\",\"Mozambique\",\"Myanmar\",\"Namibia\",\"Nepal\",\"Netherlands\",\"New Caledonia\",\"New Zealand\",\"Nicaragua\",\"Nigeria\",\"Northern Mariana Islands\",\"Norway\",\"Oman\",\"Pakistan\",\"Palestinian Territory\",\"Panama\",\"Papua New Guinea\",\"Paraguay\",\"Peru\",\"Philippines\",\"Poland\",\"Portugal\",\"Puerto Rico\",\"Qatar\",\"Reunion\",\"Romania\",\"Russia\",\"Rwanda\",\"Saint Kitts And Nevis\",\"Saint Lucia\",\"Saint Vincent And The Grenadines\",\"Samoa\",\"Saudi Arabia\",\"Senegal\",\"Serbia\",\"Seychelles\",\"Singapore\",\"Sint Maarten\",\"Slovakia\",\"Slovenia\",\"Somalia\",\"South Africa\",\"South Korea\",\"South Sudan\",\"Spain\",\"Sri Lanka\",\"Sudan\",\"Suriname\",\"Swaziland\",\"Sweden\",\"Switzerland\",\"Syria\",\"Taiwan\",\"Tajikistan\",\"Tanzania\",\"Thailand\",\"Timor-Leste\",\"Togo\",\"Tonga\",\"Trinidad And Tobago\",\"Tunisia\",\"Turkey\",\"Turkmenistan\",\"Turks And Caicos Islands\",\"Uganda\",\"Ukraine\",\"United Arab Emirates\",\"United Kingdom\",\"United States\",\"Uruguay\",\"Us Virgin Islands\",\"Uzbekistan\",\"Vanuatu\",\"Venezuela\",\"Vietnam\",\"Yemen\",\"Zambia\",\"Zimbabwe\")"
   ]
  },
  {
   "cell_type": "markdown",
   "metadata": {},
   "source": [
    "Noticing that the URL for countries with spaces are addressed with +'s\n",
    "![Spaces URL address space](./images/spaceURL.png)"
   ]
  },
  {
   "cell_type": "markdown",
   "metadata": {},
   "source": [
    "## The Crawl Function\n",
    "This is the function that takes a country and create the URL needed to get the table for that country"
   ]
  },
  {
   "cell_type": "code",
   "execution_count": 15,
   "metadata": {
    "collapsed": true
   },
   "outputs": [],
   "source": [
    "getCoL = function(country){\n",
    "    now = Sys.time()\n",
    "    writeLines(str_c(now, \"Scraping \", country, sep=\"\\t\"))\n",
    "    \n",
    "    URL = str_c(\"https://www.numbeo.com/cost-of-living/country_result.jsp?country=\", country, sep=\"\")\n",
    "    #get html from page\n",
    "    CoL_page = read_html(URL) \n",
    "    \n",
    "    #get all the tables on the pages\n",
    "    CoL_elements = html_nodes(x = CoL_page, css = \"table\") \n",
    "    \n",
    "    #3rd table returned\n",
    "    CoL_text = html_text(CoL_elements[3], trim = TRUE) \n",
    "    \n",
    "    #removing table from list\n",
    "    CoL_table = as_tibble(html_table(CoL_elements[3])[[1]])\n",
    "    \n",
    "    #rename the columns\n",
    "    colnames(CoL_table) = c(\"item\", 'avgPrice', 'range') \n",
    "    \n",
    "    #remove categories that corrupt table\n",
    "    CoL_table = CoL_table %>% filter(avgPrice != \"[ Edit ]\") \n",
    "    \n",
    "    #split the numbers out of the avgPrice column to identify currency used\n",
    "    currency_pass_1 = CoL_table %>% select(avgPrice) %>% unlist() %>% str_split(\"[0-9]\") \n",
    "    currency = str_split(currency_pass_1[[1]], \" \") %>% tail(1) %>% unlist()\n",
    "    \n",
    "    writeLines(paste0(\"Time:\\t\\t \", Sys.time() -now))\n",
    "    return(c(CoL_table, cur=currency))\n",
    "    }"
   ]
  },
  {
   "cell_type": "markdown",
   "metadata": {},
   "source": [
    "## Perform the crawl"
   ]
  },
  {
   "cell_type": "code",
   "execution_count": 21,
   "metadata": {
    "scrolled": false
   },
   "outputs": [
    {
     "name": "stdout",
     "output_type": "stream",
     "text": [
      "2017-08-20 12:30:00\tScraping \tAfghanistan\n",
      "Time:\t\t 1.12367796897888\n",
      "2017-08-20 12:30:01\tScraping \tAland+Islands\n",
      "Time:\t\t 1.10028696060181\n",
      "2017-08-20 12:30:03\tScraping \tAlbania\n",
      "Time:\t\t 1.10572409629822\n",
      "2017-08-20 12:30:04\tScraping \tAlgeria\n",
      "Time:\t\t 1.07789421081543\n",
      "2017-08-20 12:30:05\tScraping \tAndorra\n",
      "Time:\t\t 1.09718012809753\n",
      "2017-08-20 12:30:06\tScraping \tAngola\n",
      "Time:\t\t 1.08916997909546\n",
      "2017-08-20 12:30:07\tScraping \tAntigua+And+Barbuda\n",
      "Time:\t\t 1.097904920578\n",
      "2017-08-20 12:30:08\tScraping \tArgentina\n",
      "Time:\t\t 1.12205195426941\n",
      "2017-08-20 12:30:09\tScraping \tArmenia\n",
      "Time:\t\t 1.0961799621582\n",
      "2017-08-20 12:30:10\tScraping \tAruba\n",
      "Time:\t\t 1.08515501022339\n"
     ]
    },
    {
     "data": {
      "text/plain": [
       "Time difference of 11.00251 secs"
      ]
     },
     "metadata": {},
     "output_type": "display_data"
    }
   ],
   "source": [
    "now = Sys.time()\n",
    "countries_plus = lapply(countries[1:10], function(x) gsub(\" \", \"+\", x, fixed=TRUE))\n",
    "country_tibbles = lapply(countries_plus, function(x) getCoL(x))\n",
    "Sys.time() -now"
   ]
  },
  {
   "cell_type": "markdown",
   "metadata": {},
   "source": [
    "### The next thing to address - exchange rates\n",
    "The webstie return the cost in the home currency, writing another crawler the get the exchage rates from google"
   ]
  },
  {
   "cell_type": "markdown",
   "metadata": {},
   "source": [
    "Encountering some troubles with the Character encoding... "
   ]
  },
  {
   "cell_type": "code",
   "execution_count": 149,
   "metadata": {},
   "outputs": [
    {
     "name": "stdout",
     "output_type": "stream",
     "text": [
      "[1] \"EC$\"\n",
      "[1] \"https://www.google.co.uk/search?q=EC$+to+USD\"\n"
     ]
    },
    {
     "ename": "ERROR",
     "evalue": "Error in doc_parse_raw(x, encoding = encoding, base_url = base_url, as_html = as_html, : input conversion failed due to input error, bytes 0xBB 0x3C 0x2F 0x61 [6003]\n",
     "output_type": "error",
     "traceback": [
      "Error in doc_parse_raw(x, encoding = encoding, base_url = base_url, as_html = as_html, : input conversion failed due to input error, bytes 0xBB 0x3C 0x2F 0x61 [6003]\nTraceback:\n",
      "1. read_html(URL, encoding = \"utf8\")   # at line 11 of file <text>",
      "2. read_html.default(URL, encoding = \"utf8\")",
      "3. suppressWarnings(read_xml(x, encoding = encoding, ..., as_html = TRUE, \n .     options = options))",
      "4. withCallingHandlers(expr, warning = function(w) invokeRestart(\"muffleWarning\"))",
      "5. read_xml(x, encoding = encoding, ..., as_html = TRUE, options = options)",
      "6. read_xml.character(x, encoding = encoding, ..., as_html = TRUE, \n .     options = options)",
      "7. read_xml.connection(con, encoding = encoding, ..., as_html = as_html, \n .     base_url = x, options = options)",
      "8. read_xml.raw(raw, encoding = encoding, base_url = base_url, as_html = as_html, \n .     options = options)",
      "9. doc_parse_raw(x, encoding = encoding, base_url = base_url, as_html = as_html, \n .     options = options)"
     ]
    }
   ],
   "source": [
    "for( c in country_tibbles[7:10]){\n",
    "    \n",
    "    ref_currency = \"USD\"\n",
    "    from_currency = iconv(str_replace(c$cur, \"\\\\s\", \"\"), to = \"UTF-8\")\n",
    "    \n",
    "    print(enc2utf8(from_currency))\n",
    "    \n",
    "    URL =  str_c(\"https://www.google.co.uk/search?q=\", enc2utf8(from_currency), \"+to+\", ref_currency, sep=\"\")\n",
    "    print(URL)\n",
    "    #get html from page\n",
    "    CoL_page = read_html( URL, encoding = \"utf8\") \n",
    "\n",
    "    #get all the tables on the pages\n",
    "    CoL_elements = html_nodes(x = CoL_page, css = \"div\")\n",
    "    text = CoL_elements %>% html_text()\n",
    "    exchange_rate = as.numeric(strsplit(strsplit(strsplit(unlist(strsplit(text, \"'\")[22]), \"US dollars\")[[1]], \"'\")[[1]], '=')[[1]][2])\n",
    "    print(exchange_rate)\n",
    "}"
   ]
  },
  {
   "cell_type": "code",
   "execution_count": null,
   "metadata": {
    "collapsed": true
   },
   "outputs": [],
   "source": []
  }
 ],
 "metadata": {
  "kernelspec": {
   "display_name": "R",
   "language": "R",
   "name": "ir"
  },
  "language_info": {
   "codemirror_mode": "r",
   "file_extension": ".r",
   "mimetype": "text/x-r-source",
   "name": "R",
   "pygments_lexer": "r",
   "version": "3.3.3"
  }
 },
 "nbformat": 4,
 "nbformat_minor": 2
}
